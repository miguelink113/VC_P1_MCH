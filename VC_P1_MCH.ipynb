{
 "cells": [
  {
   "cell_type": "markdown",
   "metadata": {},
   "source": [
    "Paquetes necesarios"
   ]
  },
  {
   "cell_type": "code",
   "execution_count": 60,
   "metadata": {},
   "outputs": [],
   "source": [
    "import cv2  \n",
    "import numpy as np\n",
    "import matplotlib.pyplot as plt"
   ]
  },
  {
   "cell_type": "markdown",
   "metadata": {},
   "source": [
    "TAREA: Crea una imagen, p.e. de 800x800 píxeles, con la textura del tablero de ajedrez"
   ]
  },
  {
   "cell_type": "code",
   "execution_count": 61,
   "metadata": {},
   "outputs": [
    {
     "name": "stdout",
     "output_type": "stream",
     "text": [
      "(800, 800, 3)\n"
     ]
    },
    {
     "data": {
      "image/png": "[encoded data removed]",
      "text/plain": [
       "<Figure size 640x480 with 1 Axes>"
      ]
     },
     "metadata": {},
     "output_type": "display_data"
    }
   ],
   "source": [
    "#Crea una imagen con tres planos\n",
    "color_img = np.zeros((800,800,3), dtype = np.uint8)\n",
    "\n",
    "#Parte nueva: crea un patrón de ajedrez pintando cuadrados blancos\n",
    "for i in range(0, 8):\n",
    "    for j in range(0, 8):\n",
    "        if (i%2) == (j%2):\n",
    "            color_img[100*i:100*(i+1), 100*j:100*(j+1)] = 255\n",
    "\n",
    "#Dimensiones\n",
    "print(color_img.shape)\n",
    "#Visualiza con matplotlib (sin especificar el mapa de color gris)\n",
    "plt.imshow(color_img) \n",
    "plt.show()\n"
   ]
  },
  {
   "cell_type": "markdown",
   "metadata": {},
   "source": [
    "TAREA: Crear una imagen estilo Mondrian (un ejemplo https://www3.gobiernodecanarias.org/medusa/ecoescuela/sa/2017/04/17/descubriendo-a-mondrian/ ) con las funciones de dibujo de OpenCV"
   ]
  },
  {
   "cell_type": "code",
   "execution_count": 71,
   "metadata": {},
   "outputs": [
    {
     "data": {
      "image/png": "[encoded data removed]",
      "text/plain": [
       "<Figure size 640x480 with 1 Axes>"
      ]
     },
     "metadata": {},
     "output_type": "display_data"
    },
    {
     "data": {
      "text/plain": [
       "True"
      ]
     },
     "execution_count": 71,
     "metadata": {},
     "output_type": "execute_result"
    }
   ],
   "source": [
    "#Crea una imagen con tres planos\n",
    "color_img = np.zeros((200,300,3), dtype = np.uint8)\n",
    "\n",
    "cv2.rectangle(color_img, (10, 10), (60, 60), (255, 255, 0), -1)\n",
    "cv2.rectangle(color_img, (10, 70), (150, 190), (0, 0, 255), -1)\n",
    "cv2.rectangle(color_img, (70, 10), (150, 60), (255, 0, 0), -1)\n",
    "cv2.rectangle(color_img, (160, 10), (290, 60), (255, 255, 255), -1)\n",
    "cv2.rectangle(color_img, (160, 70), (290, 190), (255, 255, 0), -1)\n",
    "\n",
    "\n",
    "\n",
    "\n",
    "plt.imshow(color_img) \n",
    "plt.show()\n",
    "\n",
    "#Salva la imagen resultante a disco\n",
    "cv2.imwrite('imagen.jpg', color_img)"
   ]
  },
  {
   "cell_type": "markdown",
   "metadata": {},
   "source": [
    "TAREA? Funciones de dibujo. OpenCV dispone de funciones específicas para dibujar formas básicas (más información https://docs.opencv.org/4.x/dc/da5/tutorial_py_drawing_functions.html)"
   ]
  },
  {
   "cell_type": "code",
   "execution_count": 101,
   "metadata": {},
   "outputs": [
    {
     "data": {
      "image/png": "[encoded data removed]",
      "text/plain": [
       "<Figure size 640x480 with 1 Axes>"
      ]
     },
     "metadata": {},
     "output_type": "display_data"
    },
    {
     "data": {
      "text/plain": [
       "True"
      ]
     },
     "execution_count": 101,
     "metadata": {},
     "output_type": "execute_result"
    }
   ],
   "source": [
    "# Definiciones\n",
    "alto = 300\n",
    "ancho = 400\n",
    "\n",
    "# Crea una imagen con tres planos (fondo celeste)\n",
    "color_img = np.full((alto, ancho, 3), (150, 255, 150), dtype=np.uint8)\n",
    "\n",
    "# --- Casa ---\n",
    "# Paredes (rectángulo principal)\n",
    "cv2.rectangle(color_img, (100, 150), (300, 280), (200, 180, 200), -1)\n",
    "\n",
    "# Techo (triángulo/polígono)\n",
    "pts_techo = np.array([[80,150],[200,80],[320,150]], np.int32)\n",
    "pts_techo = pts_techo.reshape((-1,1,2))\n",
    "cv2.fillPoly(color_img, [pts_techo], (100,0,250))\n",
    "\n",
    "# Puerta\n",
    "cv2.rectangle(color_img, (180, 200), (220, 280), (90, 90, 150), -1)\n",
    "\n",
    "# Ventanas\n",
    "cv2.rectangle(color_img, (120, 180), (150, 210), (255, 255, 255), -1)\n",
    "cv2.rectangle(color_img, (250, 180), (280, 210), (255, 255, 255), -1)\n",
    "\n",
    "# Visualiza\n",
    "plt.imshow(cv2.cvtColor(color_img, cv2.COLOR_BGR2RGB))\n",
    "plt.axis(\"off\")\n",
    "plt.show()\n",
    "\n",
    "# Guarda la imagen\n",
    "cv2.imwrite('casa.jpg', color_img)"
   ]
  },
  {
   "cell_type": "markdown",
   "metadata": {},
   "source": [
    "TAREA: Modifica de forma libre los valores de un plano de la imagen"
   ]
  },
  {
   "cell_type": "code",
   "execution_count": 116,
   "metadata": {},
   "outputs": [],
   "source": [
    "vid = cv2.VideoCapture(0)\n",
    "  \n",
    "while(True):      \n",
    "    # fotograma a fotograma\n",
    "    ret, frame = vid.read()\n",
    "\n",
    "    if ret:\n",
    "        #Separamos canales\n",
    "        b = frame[:,:,0]\n",
    "        g = 255-frame[:,:,1] # Canal verde invertido\n",
    "        r = frame[:,:,2]\n",
    "        #Dimensiones imagen de entrada\n",
    "        h, w, c = frame.shape\n",
    "\n",
    "        #Concateamos en horizontal los tres planos del fotograma\n",
    "        collage = np.hstack((r, g, b))\n",
    "    \n",
    "        # Muestra fotograma redimensionando a la mitad para que quepa en pantalla\n",
    "        cv2.imshow('RGB', cv2.resize(collage, (int(w*1.5),int(h/2)),cv2.INTER_NEAREST))\n",
    "    \n",
    "    # Detenemos pulsado ESC\n",
    "    if cv2.waitKey(20) == 27:\n",
    "        break\n",
    "  \n",
    "# Libera el objeto de captura\n",
    "vid.release()\n",
    "# Destruye ventanas\n",
    "cv2.destroyAllWindows()"
   ]
  },
  {
   "cell_type": "markdown",
   "metadata": {},
   "source": [
    "TAREA:\n",
    "Pintar círculos en las posiciones del píxel más claro y oscuro de la imagen \n",
    "¿Si quisieras hacerlo sobre la zona 8x8 más clara/oscura?"
   ]
  },
  {
   "cell_type": "code",
   "execution_count": 119,
   "metadata": {},
   "outputs": [],
   "source": [
    "vid = cv2.VideoCapture(0)\n",
    "\n",
    "while True:      \n",
    "    ret, frame = vid.read()\n",
    "    if not ret:\n",
    "        break\n",
    "    \n",
    "    # Pasamos a escala de grises para medir claridad\n",
    "    gray = cv2.cvtColor(frame, cv2.COLOR_BGR2GRAY)\n",
    "    \n",
    "    # Obtenemos posición del píxel más oscuro y más claro\n",
    "    minVal, maxVal, minLoc, maxLoc = cv2.minMaxLoc(gray)\n",
    "    \n",
    "    # Obtener color promedio BGR en esos píxeles\n",
    "    min_color = frame[minLoc[1], minLoc[0]]  # frame[y, x]\n",
    "    max_color = frame[maxLoc[1], maxLoc[0]]\n",
    "\n",
    "\n",
    "\n",
    "    # Dibujamos círculos en esas posiciones\n",
    "    cv2.circle(frame, minLoc, 10, (255, 255, 255), 2)  # blanco = más oscuro\n",
    "    cv2.circle(frame, maxLoc, 10, (0, 0, 0), 2)  # negro = más claro\n",
    "    \n",
    "    # Mostrar texto con las 3 componentes BGR\n",
    "    cv2.putText(frame, f\"BGR: {int(min_color[0])},{int(min_color[1])},{int(min_color[2])}\",\n",
    "                (minLoc[0]-30, minLoc[1]+20), cv2.FONT_HERSHEY_SIMPLEX,\n",
    "                0.5, (255, 255, 255), 1, cv2.LINE_AA)\n",
    "    cv2.putText(frame, f\"BGR: {int(max_color[0])},{int(max_color[1])},{int(max_color[2])}\",\n",
    "                (maxLoc[0]-30, maxLoc[1]+20), cv2.FONT_HERSHEY_SIMPLEX,\n",
    "                0.5, (0, 0, 0), 1, cv2.LINE_AA)\n",
    "\n",
    "\n",
    "    # Mostramos\n",
    "    cv2.imshow(\"Claro/Oscuro\", frame)\n",
    "    \n",
    "    # Salida con ESC\n",
    "    if cv2.waitKey(20) == 27:\n",
    "        break\n",
    "\n",
    "vid.release()\n",
    "cv2.destroyAllWindows()\n"
   ]
  },
  {
   "cell_type": "code",
   "execution_count": 120,
   "metadata": {},
   "outputs": [],
   "source": [
    "vid = cv2.VideoCapture(0)\n",
    "\n",
    "while True:\n",
    "    ret, frame = vid.read()\n",
    "    if not ret:\n",
    "        break\n",
    "\n",
    "    h, w = frame.shape[:2]\n",
    "    if h < 8 or w < 8:\n",
    "        cv2.imshow(\"8x8 color\", frame)\n",
    "        if cv2.waitKey(20) == 27:\n",
    "            break\n",
    "        continue\n",
    "\n",
    "    # Promediar en bloques 8x8 para cada canal\n",
    "    avg = cv2.blur(frame, (8, 8))  # devuelve BGR promedio en cada bloque\n",
    "\n",
    "    # Encontrar el más claro y el más oscuro usando luminosidad (convertimos a gris)\n",
    "    gray_avg = cv2.cvtColor(avg, cv2.COLOR_BGR2GRAY)\n",
    "    min_val, max_val, min_loc, max_loc = cv2.minMaxLoc(gray_avg)\n",
    "\n",
    "    # Centro aproximado del bloque\n",
    "    min_center = (min_loc[0] + 4, min_loc[1] + 4)\n",
    "    max_center = (max_loc[0] + 4, max_loc[1] + 4)\n",
    "\n",
    "    # Obtener color promedio BGR en esos bloques\n",
    "    min_color = avg[min_center[1], min_center[0]]  # formato [B, G, R]\n",
    "    max_color = avg[max_center[1], max_center[0]]\n",
    "\n",
    "    # Dibujar círculos\n",
    "    cv2.circle(frame, min_center, 10, (255, 255, 255), 2)\n",
    "    cv2.circle(frame, max_center, 10, (0, 0, 0), 2)\n",
    "\n",
    "    # Mostrar texto con las 3 componentes BGR\n",
    "    cv2.putText(frame, f\"BGR: {int(min_color[0])},{int(min_color[1])},{int(min_color[2])}\",\n",
    "                (min_center[0]-30, min_center[1]+20), cv2.FONT_HERSHEY_SIMPLEX,\n",
    "                0.5, (255, 255, 255), 1, cv2.LINE_AA)\n",
    "    cv2.putText(frame, f\"BGR: {int(max_color[0])},{int(max_color[1])},{int(max_color[2])}\",\n",
    "                (max_center[0]-30, max_center[1]+20), cv2.FONT_HERSHEY_SIMPLEX,\n",
    "                0.5, (0, 0, 0), 1, cv2.LINE_AA)\n",
    "\n",
    "    cv2.imshow(\"8x8 color\", frame)\n",
    "\n",
    "    if cv2.waitKey(20) == 27:\n",
    "        break\n",
    "\n",
    "vid.release()\n",
    "cv2.destroyAllWindows()\n"
   ]
  },
  {
   "cell_type": "markdown",
   "metadata": {},
   "source": [
    "TAREA: Llevar a cabo una propuesta propia de pop art"
   ]
  },
  {
   "cell_type": "code",
   "execution_count": 121,
   "metadata": {},
   "outputs": [],
   "source": [
    "# Abrir cámara\n",
    "vid = cv2.VideoCapture(0)\n",
    "\n",
    "# Dimensiones originales\n",
    "w = int(vid.get(cv2.CAP_PROP_FRAME_WIDTH))\n",
    "h = int(vid.get(cv2.CAP_PROP_FRAME_HEIGHT))\n",
    "\n",
    "# Reducimos a la mitad\n",
    "w = int(w / 2)\n",
    "h = int(h / 2)\n",
    "vid.set(cv2.CAP_PROP_FRAME_WIDTH, w)\n",
    "vid.set(cv2.CAP_PROP_FRAME_HEIGHT, h)\n",
    "\n",
    "# Imagen conjunta (3x3 cuadrantes)\n",
    "collage = np.zeros((h * 3, w * 3, 3), dtype=np.uint8)\n",
    "\n",
    "while True:\n",
    "    ret, frameIN = vid.read()\n",
    "    if not ret:\n",
    "        break\n",
    "\n",
    "    # Redimensionamos el frame\n",
    "    frame = cv2.resize(frameIN, (w, h), interpolation=cv2.INTER_NEAREST)\n",
    "\n",
    "    # Generamos distintas versiones del frame modificando canales\n",
    "    mods = [ \n",
    "        cv2.merge([frame[:,:,0], np.zeros_like(frame[:,:,1]), np.zeros_like(frame[:,:,2])]),            # solo azul\n",
    "        cv2.merge([frame[:,:,0], 255-frame[:,:,1], 255-frame[:,:,2]]),                                  # verde y rojo invertidos, azul normal\n",
    "        cv2.merge([np.zeros_like(frame[:,:,0]), frame[:,:,1], frame[:,:,2]]),                           # sin azul\n",
    "        cv2.merge([frame[:,:,0], frame[:,:,1], np.zeros_like(frame[:,:,2])]),                           # sin rojo\n",
    "        cv2.merge([np.zeros_like(frame[:,:,0]), np.zeros_like(frame[:,:,1]), frame[:,:,2]]),            # solo rojo\n",
    "        cv2.merge([255-frame[:,:,0], 255-frame[:,:,1], frame[:,:,2]]),                                  # azul y verde invertidos, rojo normal *\n",
    "        cv2.merge([255-frame[:,:,0], frame[:,:,1], 255-frame[:,:,2]]),                                  # azul y rojo invertidos, verde normal *\n",
    "        cv2.merge([frame[:,:,0], np.zeros_like(frame[:,:,1]), frame[:,:,2]]),                           # sin verde\n",
    "        cv2.merge([np.zeros_like(frame[:,:,0]), frame[:,:,1], np.zeros_like(frame[:,:,2])]),            # solo verde\n",
    "\n",
    "    ]\n",
    "\n",
    "    # Colocar cada versión en el collage 3x3\n",
    "    idx = 0\n",
    "    for i in range(3):          # filas\n",
    "        for j in range(3):      # columnas\n",
    "            collage[i*h:(i+1)*h, j*w:(j+1)*w, :] = mods[idx]\n",
    "            idx += 1\n",
    "\n",
    "    # Mostrar collage\n",
    "    cv2.imshow('Cam', collage)\n",
    "\n",
    "    # Salir con ESC\n",
    "    if cv2.waitKey(20) == 27:\n",
    "        break\n",
    "\n",
    "# Liberar cámara y cerrar ventanas\n",
    "vid.release()\n",
    "cv2.destroyAllWindows()\n"
   ]
  }
 ],
 "metadata": {
  "kernelspec": {
   "display_name": "VC_P1_MCH",
   "language": "python",
   "name": "python3"
  },
  "language_info": {
   "codemirror_mode": {
    "name": "ipython",
    "version": 3
   },
   "file_extension": ".py",
   "mimetype": "text/x-python",
   "name": "python",
   "nbconvert_exporter": "python",
   "pygments_lexer": "ipython3",
   "version": "3.11.13"
  },
  "orig_nbformat": 4
 },
 "nbformat": 4,
 "nbformat_minor": 2
}
